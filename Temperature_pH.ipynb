{
 "cells": [
  {
   "cell_type": "code",
   "execution_count": null,
   "metadata": {
    "scrolled": true
   },
   "outputs": [],
   "source": [
    "import serial                           # Import serial module \n",
    "import time\n",
    "\n",
    "ser = serial.Serial('COM3', 9600)       # Set up the serial line\n",
    "time.sleep(2)                           # Time delay to read and record the data\n",
    "                        \n",
    "Temp = []                                # empty lists to store the data\n",
    "pH =   []\n",
    "\n",
    "for i in range(50):\n",
    "    b = ser.readline()                  # read a byte string\n",
    "    string_n = b.decode()               # decode byte string into Unicode  \n",
    "    string = string_n.rstrip()          # remove \\n and \\r\n",
    "    temp = string[0:5]                  # Choose the columns to separate incoming data\n",
    "    ph = string[6:]\n",
    "    Temp.append(temp)                   # Update the empty lists we created in the beginning\n",
    "    pH.append(ph)\n",
    "    time.sleep(0.1)                     # Time delay to collect more data\n",
    "\n",
    "ser.close()                             # So it stops collecting data after reaching i range value\n",
    "\n",
    "import matplotlib.pyplot as plt         # Import matplotlib for plotting\n",
    "                                        # If using a Jupyter notebook include %matplotlib inline or %matplotlib notebook\n",
    "%matplotlib inline                  \n",
    "\n",
    "fig, ax = plt.subplots()                # Create axes and plot Temperature readings with customized plot\n",
    "\n",
    "plt.plot(Temp)\n",
    "plt.xlabel('Reading Value (#)')\n",
    "plt.ylabel('Temperature (\\u00b0 F)')\n",
    "plt.title('Temperature Reading for Water Sample')\n",
    "plt.show()\n",
    "\n",
    "fig, ax = plt.subplots()                # Create axes and plot pH readings with customized plot\n",
    "\n",
    "ax.plot(pH)\n",
    "ax.set_xlabel('Reading Value (#)')\n",
    "ax.set_ylabel('pH')\n",
    "ax.set_title('pH Reading for Water Sample')\n",
    "plt.show()"
   ]
  }
 ],
 "metadata": {
  "kernelspec": {
   "display_name": "Python 3",
   "language": "python",
   "name": "python3"
  },
  "language_info": {
   "codemirror_mode": {
    "name": "ipython",
    "version": 3
   },
   "file_extension": ".py",
   "mimetype": "text/x-python",
   "name": "python",
   "nbconvert_exporter": "python",
   "pygments_lexer": "ipython3",
   "version": "3.7.3"
  }
 },
 "nbformat": 4,
 "nbformat_minor": 2
}
